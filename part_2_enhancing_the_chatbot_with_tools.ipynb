{
 "cells": [
  {
   "cell_type": "markdown",
   "id": "52245f6c",
   "metadata": {},
   "source": [
    "## Part 2: 🛠️ Enhancing the Chatbot with Tools¶\n",
    "- To handle queries our chatbot can't answer \"from memory\", we'll integrate a web search tool. Our bot can use this tool to find relevant information and provide better responses.\n",
    "- Requirements¶\n",
    "Before we start, make sure you have the necessary packages installed and API keys set up:\n",
    "\n",
    "- First, install the requirements to use the Tavily Search Engine, and set your TAVILY_API_KEY"
   ]
  },
  {
   "cell_type": "code",
   "execution_count": 1,
   "id": "69de2ef9",
   "metadata": {},
   "outputs": [
    {
     "name": "stderr",
     "output_type": "stream",
     "text": [
      "\n",
      "[notice] A new release of pip is available: 24.2 -> 25.0.1\n",
      "[notice] To update, run: python.exe -m pip install --upgrade pip\n"
     ]
    }
   ],
   "source": [
    "%%capture --no-stderr \n",
    "%pip install -U tavily-python langchain_community"
   ]
  },
  {
   "cell_type": "markdown",
   "id": "8441dbb2",
   "metadata": {},
   "source": [
    "### API Key Setup"
   ]
  },
  {
   "cell_type": "code",
   "execution_count": null,
   "id": "4cf56d0a",
   "metadata": {},
   "outputs": [],
   "source": [
    "import getpass\n",
    "import os\n",
    "\n",
    "\n",
    "def _set_env(var: str):\n",
    "    if not os.environ.get(var):\n",
    "        os.environ[var] = getpass.getpass(f\"{var}: \")\n",
    "\n",
    "\n",
    "_set_env(\"TAVILY_API_KEY\")"
   ]
  },
  {
   "cell_type": "markdown",
   "id": "279e7457",
   "metadata": {},
   "source": [
    "This code securely sets up the Tavily API key for web searches by:\n",
    "\n",
    "Checking if the key exists in environment variables\n",
    "If not, prompting the user to enter it securely"
   ]
  },
  {
   "cell_type": "markdown",
   "id": "62a471eb",
   "metadata": {},
   "source": [
    "Using TavilySearchResults Method"
   ]
  },
  {
   "cell_type": "code",
   "execution_count": 5,
   "id": "45aea945",
   "metadata": {},
   "outputs": [
    {
     "data": {
      "text/plain": [
       "[{'title': 'LangGraph Glossary - GitHub Pages',\n",
       "  'url': 'https://langchain-ai.github.io/langgraph/concepts/low_level/',\n",
       "  'content': 'In LangGraph, nodes are typically python functions (sync or async) where the first positional argument is the state, and (optionally), the second positional argument is a \"config\", containing optional configurable parameters (such as a thread_id).\\nSimilar to NetworkX, you add these nodes to a graph using the add_node method:\\n[](https://langchain-ai.github.io/langgraph/concepts/low_level/#__codelineno-7-1)fromlangchain_core.runnablesimport RunnableConfig [...] LangGraph Glossary¶\\nGraphs¶\\nAt its core, LangGraph models agent workflows as graphs. You define the behavior of your agents using three key components:\\n\\n\\nState: A shared data structure that represents the current snapshot of your application. It can be any Python type, but is typically a TypedDict or Pydantic BaseModel.\\n\\n\\nNodes: Python functions that encode the logic of your agents. They receive the current State as input, perform some computation or side-effect, and return an updated State. [...] By composing Nodes and Edges, you can create complex, looping workflows that evolve the State over time. The real power, though, comes from how LangGraph manages that State. To emphasize: Nodes and Edges are nothing more than Python functions - they can contain an LLM or just good ol\\' Python code.\\nIn short: nodes do the work. edges tell what to do next.',\n",
       "  'score': 0.8974172},\n",
       " {'title': 'LangGraph Glossary - GitHub Pages',\n",
       "  'url': 'https://langchain-ai.github.io/langgraphjs/concepts/low_level/',\n",
       "  'content': 'In LangGraph, nodes are typically JavaScript/TypeScript functions (sync or async) where the first positional argument is the state, and (optionally), the second positional argument is a \"config\", containing optional configurable parameters (such as a thread_id).\\nSimilar to NetworkX, you add these nodes to a graph using the addNode method:\\n[](https://langchain-ai.github.io/langgraphjs/concepts/low_level/#__codelineno-10-1)import{RunnableConfig}from\"@langchain/core/runnables\"; [...] By composing Nodes and Edges, you can create complex, looping workflows that evolve the State over time. The real power, though, comes from how LangGraph manages that State. To emphasize: Nodes and Edges are nothing more than JavaScript/TypeScript functions - they can contain an LLM or just good ol\\' JavaScript/TypeScript code.\\nIn short: nodes do the work. edges tell what to do next. [...] State: A shared data structure that represents the current snapshot of your application. It is represented by an Annotation object.\\n\\n\\nNodes: JavaScript/TypeScript functions that encode the logic of your agents. They receive the current State as input, perform some computation or side-effect, and return an updated State.\\n\\n\\nEdges: JavaScript/TypeScript functions that determine which Node to execute next based on the current State. They can be conditional branches or fixed transitions.',\n",
       "  'score': 0.89279664}]"
      ]
     },
     "execution_count": 5,
     "metadata": {},
     "output_type": "execute_result"
    }
   ],
   "source": [
    "from langchain_community.tools.tavily_search import TavilySearchResults\n",
    "\n",
    "tool = TavilySearchResults(max_results=2)\n",
    "tools = [tool]\n",
    "tool.invoke(\"What is 'node' in LangGraph?\")"
   ]
  },
  {
   "cell_type": "markdown",
   "id": "0034ac62",
   "metadata": {},
   "source": [
    "This creates a search tool that:\n",
    "\n",
    "Uses Tavily's search API\n",
    "Limits results to 2 entries for concise responses\n",
    "Is stored in a list for use by the AI"
   ]
  },
  {
   "cell_type": "markdown",
   "id": "c15e9297",
   "metadata": {},
   "source": [
    "- The results are page summaries our chat bot can use to answer questions.\n",
    "\n",
    "- Next, we'll start defining our graph. The following is all the same as in Part 1, except we have added bind_tools on our LLM. This lets the LLM know the correct JSON format to use if it wants to use our search engine."
   ]
  },
  {
   "cell_type": "markdown",
   "id": "6f378ca6",
   "metadata": {},
   "source": [
    "### Creating the Graph Structure"
   ]
  },
  {
   "cell_type": "code",
   "execution_count": 6,
   "id": "4e19448e",
   "metadata": {},
   "outputs": [
    {
     "data": {
      "text/plain": [
       "<langgraph.graph.state.StateGraph at 0x22656968d40>"
      ]
     },
     "execution_count": 6,
     "metadata": {},
     "output_type": "execute_result"
    }
   ],
   "source": [
    "from typing import Annotated\n",
    "\n",
    "from langchain_anthropic import ChatAnthropic\n",
    "from typing_extensions import TypedDict\n",
    "\n",
    "from langgraph.graph import StateGraph, START, END\n",
    "from langgraph.graph.message import add_messages\n",
    "\n",
    "# StateGraph is a graph of states, where each state is a dictionary of messages.\n",
    "# The graph is built by adding messages to the states, and the graph is traversed by calling the LLM with the current state.\n",
    "class State(TypedDict):\n",
    "    messages: Annotated[list, add_messages]\n",
    "    \n",
    "    \n",
    "graph_builder = StateGraph(State)\n",
    "\n",
    "\n",
    "#Node: \"node\" in LangGraph is a state in the graph, which is a dictionary of messages.\n",
    "# The graph is built by adding messages to the states, and the graph is traversed by calling the LLM with the current state.\n",
    "llm = ChatAnthropic(model=\"claude-3-5-sonnet-20240620\")\n",
    "# Modification: tell the LLM which tools it can call\n",
    "llm_with_tools = llm.bind_tools(tools)\n",
    "\n",
    "def chatbot(state:State):\n",
    "    return {\"messages\": [llm_with_tools.invoke(state[\"messages\"])]}\n",
    "\n",
    "graph_builder.add_node('chatbot', chatbot)"
   ]
  },
  {
   "cell_type": "markdown",
   "id": "2e348694",
   "metadata": {},
   "source": [
    "Next we need to create a function to actually run the tools if they are called. We'll do this by adding the tools to a new node.\n",
    "\n",
    "Below, we implement a BasicToolNode that checks the most recent message in the state and calls tools if the message contains tool_calls. It relies on the LLM's tool_calling support, which is available in Anthropic, OpenAI, Google Gemini, and a number of other LLM providers.\n",
    "\n",
    "We will later replace this with LangGraph's prebuilt ToolNode to speed things up, but building it ourselves first is instructive."
   ]
  },
  {
   "cell_type": "markdown",
   "id": "8ebae90a",
   "metadata": {},
   "source": [
    "- This sets up the graph structure where:\n",
    "\n",
    "- State defines the format of data flowing through the graph\n",
    "- messages holds the conversation history\n",
    "- StateGraph manages the flow between different components\n",
    "\n",
    "- This creates the chatbot by:\n",
    "\n",
    "- Initializing Claude 3.5 as the LLM\n",
    "- Binding the search tool to the LLM\n",
    "- Creating a function to process messages\n",
    "- Adding it as a node in the graph"
   ]
  },
  {
   "cell_type": "markdown",
   "id": "b4a0aa13",
   "metadata": {},
   "source": [
    "### Tool Node Implementation"
   ]
  },
  {
   "cell_type": "code",
   "execution_count": 7,
   "id": "1d73e06a",
   "metadata": {},
   "outputs": [
    {
     "data": {
      "text/plain": [
       "<langgraph.graph.state.StateGraph at 0x22656968d40>"
      ]
     },
     "execution_count": 7,
     "metadata": {},
     "output_type": "execute_result"
    }
   ],
   "source": [
    "# Import required libraries\n",
    "import json\n",
    "from langchain_core.messages import ToolMessage\n",
    "\n",
    "class BasicToolNode:\n",
    "    \"\"\"A node that runs the tools requested in the last AIMessage.\"\"\"\n",
    "\n",
    "    def __init__(self, tools: list) -> None:\n",
    "        # Create a dictionary mapping tool names to tool objects for easy lookup\n",
    "        self.tools_by_name = {tool.name: tool for tool in tools}\n",
    "\n",
    "    def __call__(self, inputs: dict):\n",
    "        # Check if there are messages in the input and get the last message\n",
    "        # Using walrus operator ':=' for assignment within the if statement\n",
    "        if messages := inputs.get(\"messages\", []):\n",
    "            message = messages[-1]\n",
    "        else:\n",
    "            raise ValueError(\"No message found in input\")\n",
    "\n",
    "        # Initialize list to store results from tool executions\n",
    "        outputs = []\n",
    "\n",
    "        # Iterate through each tool call requested in the message\n",
    "        for tool_call in message.tool_calls:\n",
    "            # Execute the requested tool with provided arguments\n",
    "            tool_result = self.tools_by_name[tool_call[\"name\"]].invoke(\n",
    "                tool_call[\"args\"]\n",
    "            )\n",
    "            \n",
    "            # Create a ToolMessage with the tool's response\n",
    "            # Convert the result to JSON string for consistency\n",
    "            outputs.append(\n",
    "                ToolMessage(\n",
    "                    content=json.dumps(tool_result),  # Serialize result to JSON\n",
    "                    name=tool_call[\"name\"],           # Name of the tool used\n",
    "                    tool_call_id=tool_call[\"id\"],     # Unique ID for this tool call\n",
    "                )\n",
    "            )\n",
    "        \n",
    "        # Return the tool outputs in the expected message format\n",
    "        return {\"messages\": outputs}\n",
    "\n",
    "# Create an instance of BasicToolNode with our search tool\n",
    "tool_node = BasicToolNode(tools=[tool])\n",
    "\n",
    "# Add the tool node to our graph with name \"tools\"\n",
    "\n",
    "graph_builder.add_node(\"tools\", tool_node)"
   ]
  },
  {
   "cell_type": "markdown",
   "id": "e2dec063",
   "metadata": {},
   "source": [
    "- This node:\n",
    "\n",
    "Manages tool execution\n",
    "Processes tool requests from the LLM\n",
    "Returns results in a format the LLM can understand"
   ]
  },
  {
   "cell_type": "markdown",
   "id": "74fbbb12",
   "metadata": {},
   "source": [
    "With the tool node added, we can define the conditional_edges.\n",
    "\n",
    "Recall that edges route the control flow from one node to the next. Conditional edges usually contain \"if\" statements to route to different nodes depending on the current graph state. These functions receive the current graph state and return a string or list of strings indicating which node(s) to call next.\n",
    "\n",
    "Below, call define a router function called route_tools, that checks for tool_calls in the chatbot's output. Provide this function to the graph by calling add_conditional_edges, which tells the graph that whenever the chatbot node completes to check this function to see where to go next.\n",
    "\n",
    "The condition will route to tools if tool calls are present and END if not.\n",
    "\n",
    "Later, we will replace this with the prebuilt tools_condition to be more concise, but implementing it ourselves first makes things more clear."
   ]
  },
  {
   "cell_type": "markdown",
   "id": "94f9d35a",
   "metadata": {},
   "source": [
    "###  Routing Logic"
   ]
  },
  {
   "cell_type": "code",
   "execution_count": 10,
   "id": "6bb9f2c8",
   "metadata": {},
   "outputs": [],
   "source": [
    "def route_tools(\n",
    "    state: State,\n",
    "):\n",
    "    \"\"\"\n",
    "    Use in the conditional_edge to route to the ToolNode if the last message\n",
    "    has tool calls. Otherwise, route to the end.\n",
    "    \"\"\"\n",
    "    if isinstance(state, list):\n",
    "        ai_message = state[-1]\n",
    "    elif messages := state.get(\"messages\", []):\n",
    "        ai_message = messages[-1]\n",
    "    else:\n",
    "        raise ValueError(f\"No messages found in input state to tool_edge: {state}\")\n",
    "    if hasattr(ai_message, \"tool_calls\") and len(ai_message.tool_calls) > 0:\n",
    "        return \"tools\"\n",
    "    return END\n",
    "\n",
    "\n",
    "# The `tools_condition` function returns \"tools\" if the chatbot asks to use a tool, and \"END\" if\n",
    "# it is fine directly responding. This conditional routing defines the main agent loop.\n",
    "graph_builder.add_conditional_edges(\n",
    "    \"chatbot\",\n",
    "    route_tools,\n",
    "    # The following dictionary lets you tell the graph to interpret the condition's outputs as a specific node\n",
    "    # It defaults to the identity function, but if you\n",
    "    # want to use a node named something else apart from \"tools\",\n",
    "    # You can update the value of the dictionary to something else\n",
    "    # e.g., \"tools\": \"my_tools\"\n",
    "    {\"tools\": \"tools\", END: END},\n",
    ")\n",
    "# Any time a tool is called, we return to the chatbot to decide the next step\n",
    "graph_builder.add_edge(\"tools\", \"chatbot\")\n",
    "graph_builder.add_edge(START, \"chatbot\")\n",
    "graph = graph_builder.compile()"
   ]
  },
  {
   "cell_type": "markdown",
   "id": "3775a72b",
   "metadata": {},
   "source": [
    "- This function:\n",
    "\n",
    "Checks if the LLM wants to use tools\n",
    "Routes the flow accordingly\n",
    "Ends the conversation if no tools are needed"
   ]
  },
  {
   "cell_type": "markdown",
   "id": "8ba2002a",
   "metadata": {},
   "source": [
    "Notice that conditional edges start from a single node. This tells the graph \"any time the 'chatbot' node runs, either go to 'tools' if it calls a tool, or end the loop if it responds directly.\n",
    "\n",
    "Like the prebuilt tools_condition, our function returns the END string if no tool calls are made. When the graph transitions to END, it has no more tasks to complete and ceases execution. Because the condition can return END, we don't need to explicitly set a finish_point this time. Our graph already has a way to finish!\n",
    "\n",
    "Let's visualize the graph we've built. The following function has some additional dependencies to run that are unimportant for this tutorial."
   ]
  },
  {
   "cell_type": "code",
   "execution_count": 11,
   "id": "9e32442b",
   "metadata": {},
   "outputs": [
    {
     "data": {
      "image/png": "[encoded data removed]",
      "text/plain": [
       "<IPython.core.display.Image object>"
      ]
     },
     "metadata": {},
     "output_type": "display_data"
    }
   ],
   "source": [
    "from IPython.display import Image, display\n",
    "\n",
    "try:\n",
    "    display(Image(graph.get_graph().draw_mermaid_png()))\n",
    "except Exception:\n",
    "    # This requires some extra dependencies and is optional\n",
    "    pass"
   ]
  },
  {
   "cell_type": "code",
   "execution_count": 12,
   "id": "4ebbdee1",
   "metadata": {},
   "outputs": [
    {
     "name": "stdout",
     "output_type": "stream",
     "text": [
      "User: What do you know about LangGraph?\n",
      "Assistant: [{'text': \"To provide you with accurate and up-to-date information about LangGraph, I'll need to search for the latest details. Let me do that for you.\", 'type': 'text'}, {'id': 'toolu_01HPGBaJSpa7cLuWLxNnyJCV', 'input': {'query': 'LangGraph AI tool'}, 'name': 'tavily_search_results_json', 'type': 'tool_use'}]\n",
      "Assistant: [{\"title\": \"LangGraph Quickstart - GitHub Pages\", \"url\": \"https://langchain-ai.github.io/langgraph/tutorials/introduction/\", \"content\": \"[](https://langchain-ai.github.io/langgraph/tutorials/introduction/#__codelineno-9-1)Assistant: LangGraph is a library designed to help build stateful multi-agent applications using language models. It provides tools for creating workflows and state machines to coordinate multiple AI agents or language model interactions. LangGraph is built on top of LangChain, leveraging its components while adding graph-based coordination capabilities. It's particularly useful for developing more complex, [...] [](https://langchain-ai.github.io/langgraph/tutorials/introduction/#__codelineno-21-6)   LangGraph is a library designed for building stateful, multi-actor applications with Large Language Models (LLMs). It's particularly useful for creating agent and multi-agent workflows.\\n[](https://langchain-ai.github.io/langgraph/tutorials/introduction/#__codelineno-21-7)\\n[](https://langchain-ai.github.io/langgraph/tutorials/introduction/#__codelineno-21-8)2. Developer: [...] [](https://langchain-ai.github.io/langgraph/tutorials/introduction/#__codelineno-21-26)   LangGraph is described as setting the foundation for building and scaling AI workloads. It's positioned as a key tool in the next chapter of LLM-based application development, particularly in the realm of agentic AI.\\n[](https://langchain-ai.github.io/langgraph/tutorials/introduction/#__codelineno-21-27)\\n[](https://langchain-ai.github.io/langgraph/tutorials/introduction/#__codelineno-21-28)7. Availability:\", \"score\": 0.8893851}, {\"title\": \"LangGraph Tutorial: Building LLM Agents with LangChain's ... - Zep\", \"url\": \"https://www.getzep.com/ai-agents/langgraph-tutorial\", \"content\": \"Concept | Description\\nWhat is LangGraph? | LangGraph is an AI agent framework that implements agent interactions as\\n      stateful graphs. Nodes represent functions or computational steps that are\\n      connected via edges. LangGraph maintains an agent state shared among all\\n      the nodes and edges.Unlike LangChain, LangGraph supports the implementation of more complex\\n      agentic workflows. Key features include built-in persistence, support for [...] An AI tool is a component that enhances the default functionalities of an AI agent, allowing it to perform a specific task or access external information. For example, you can use tools to access the web, connect to an external database, book a flight, etc.\\u00c2\\n\\nYou can incorporate custom and built-in LangChain tools into your LangGraph agents; the approaches remain very similar. In this section, we will see both tool types. [...] LangGraph is an AI agent framework built on LangChain that allows developers to create more sophisticated and flexible agent workflows. Unlike traditional LangChain chains and agents, LangGraph implements agent interactions as cyclic graphs with multiple-step processing involving branching and loops. This eliminates the need to implement custom logic to control the flow of information between multiple agents in the workflow.\\u00c2\\n\\nHow LangGraph works\", \"score\": 0.8755427}]\n",
      "Assistant: Thank you for your question about LangGraph. Based on the search results, I can provide you with some information about this AI tool:\n",
      "\n",
      "1. Definition: LangGraph is a library designed for building stateful, multi-actor applications with Large Language Models (LLMs). It's particularly useful for creating agent and multi-agent workflows.\n",
      "\n",
      "2. Purpose: LangGraph helps developers build stateful multi-agent applications using language models. It provides tools for creating workflows and state machines to coordinate multiple AI agents or language model interactions.\n",
      "\n",
      "3. Relationship to LangChain: LangGraph is built on top of LangChain, leveraging its components while adding graph-based coordination capabilities. It extends LangChain's functionality by allowing for more complex agentic workflows.\n",
      "\n",
      "4. Key Features:\n",
      "   - Implements agent interactions as stateful graphs\n",
      "   - Nodes represent functions or computational steps connected via edges\n",
      "   - Maintains an agent state shared among all nodes and edges\n",
      "   - Supports more complex agentic workflows compared to LangChain\n",
      "   - Built-in persistence\n",
      "   - Support for cyclic graphs with multiple-step processing, branching, and loops\n",
      "\n",
      "5. Advantages: LangGraph eliminates the need to implement custom logic to control the flow of information between multiple agents in a workflow. This makes it easier to create sophisticated and flexible agent systems.\n",
      "\n",
      "6. Use Cases: It's particularly useful for developing more complex, stateful applications involving multiple AI agents or language model interactions.\n",
      "\n",
      "7. Developer Perspective: LangGraph is described as setting the foundation for building and scaling AI workloads. It's positioned as a key tool in the next chapter of LLM-based application development, particularly in the realm of agentic AI.\n",
      "\n",
      "8. Tool Integration: LangGraph allows you to incorporate both custom and built-in LangChain tools into your agents, making it versatile for various applications.\n",
      "\n",
      "LangGraph represents an advancement in the field of AI agent development, offering more sophisticated ways to create and manage complex workflows involving multiple AI agents and language models.\n"
     ]
    }
   ],
   "source": [
    "def stream_graph_updates(user_input: str):\n",
    "    for event in graph.stream({\"messages\": [{\"role\": \"user\", \"content\": user_input}]}):\n",
    "        for value in event.values():\n",
    "            print(\"Assistant:\", value[\"messages\"][-1].content)\n",
    "\n",
    "while True:\n",
    "    try:\n",
    "        user_input = input(\"User: \")\n",
    "        if user_input.lower() in [\"quit\", \"exit\", \"q\"]:\n",
    "            print(\"Goodbye!\")\n",
    "            break\n",
    "\n",
    "        stream_graph_updates(user_input)\n",
    "    except:\n",
    "        # fallback if input() is not available\n",
    "        user_input = \"What do you know about LangGraph?\"\n",
    "        print(\"User: \" + user_input)\n",
    "        stream_graph_updates(user_input)\n",
    "        break"
   ]
  },
  {
   "cell_type": "code",
   "execution_count": null,
   "id": "be908946",
   "metadata": {},
   "outputs": [],
   "source": []
  }
 ],
 "metadata": {
  "kernelspec": {
   "display_name": "Python 3",
   "language": "python",
   "name": "python3"
  },
  "language_info": {
   "codemirror_mode": {
    "name": "ipython",
    "version": 3
   },
   "file_extension": ".py",
   "mimetype": "text/x-python",
   "name": "python",
   "nbconvert_exporter": "python",
   "pygments_lexer": "ipython3",
   "version": "3.12.7"
  }
 },
 "nbformat": 4,
 "nbformat_minor": 5
}
